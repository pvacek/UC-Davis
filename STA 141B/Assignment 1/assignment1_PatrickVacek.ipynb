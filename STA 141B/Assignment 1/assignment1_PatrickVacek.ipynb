{
 "cells": [
  {
   "cell_type": "markdown",
   "metadata": {},
   "source": [
    "## STA 141B: Assignment 1\n",
    "\n",
    "People whom I have collaborated with: Chad Pickering, Graham Smith, Hannah Kosinovsky, Nivi Achanta, Sierra Tevlin, Ricky Safran."
   ]
  },
  {
   "cell_type": "markdown",
   "metadata": {},
   "source": [
    "## Part 1: The Doomsday Algorithm\n",
    "\n",
    "The Doomsday algorithm, devised by mathematician J. H. Conway, computes the day of the week any given date fell on. The algorithm is designed to be simple enough to memorize and use for mental calculation.\n",
    "\n",
    "__Example.__ With the algorithm, we can compute that July 4, 1776 (the day the United States declared independence from Great Britain) was a Thursday.\n",
    "\n",
    "The algorithm is based on the fact that for any year, several dates always fall on the same day of the week, called the <em style=\"color:#F00\">doomsday</em> for the year. These dates include 4/4, 6/6, 8/8, 10/10, and 12/12.\n",
    "\n",
    "__Example.__ The doomsday for 2016 is Monday, so in 2016 the dates above all fell on Mondays. The doomsday for 2017 is Tuesday, so in 2017 the dates above will all fall on Tuesdays.\n",
    "\n",
    "The doomsday algorithm has three major steps:\n",
    "\n",
    "1. Compute the anchor day for the target century.\n",
    "2. Compute the doomsday for the target year based on the anchor day.\n",
    "3. Determine the day of week for the target date by counting the number of days to the nearest doomsday.\n",
    "\n",
    "Each step is explained in detail below."
   ]
  },
  {
   "cell_type": "markdown",
   "metadata": {},
   "source": [
    "### The Anchor Day\n",
    "\n",
    "The doomsday for the first year in a century is called the <em style=\"color:#F00\">anchor day</em> for that century. The anchor day is needed to compute the doomsday for any other year in that century. The anchor day for a century $c$ can be computed with the formula:\n",
    "$$\n",
    "a = \\bigl( 5 (c \\bmod 4) + 2 \\bigr) \\bmod 7\n",
    "$$\n",
    "The result $a$ corresponds to a day of the week, starting with $0$ for Sunday and ending with $6$ for Saturday.\n",
    "\n",
    "__Note.__ The modulo operation $(x \\bmod y)$ finds the remainder after dividing $x$ by $y$. For instance, $12 \\bmod 3 = 0$ since the remainder after dividing $12$ by $3$ is $0$. Similarly, $11 \\bmod 7 = 4$, since the remainder after dividing $11$ by $7$ is $4$.\n",
    "\n",
    "__Example.__ Suppose the target year is 1954, so the century is $c = 19$. Plugging this into the formula gives\n",
    "$$a = \\bigl( 5 (19 \\bmod 4) + 2 \\bigr) \\bmod 7 = \\bigl( 5(3) + 2 \\bigr) \\bmod 7 = 3.$$\n",
    "In other words, the anchor day for 1900-1999 is Wednesday, which is also the doomsday for 1900.\n",
    "\n",
    "__Exercise 1.1.__ Write a function that accepts a year as input and computes the anchor day for that year's century. The modulo operator `%` and functions in the `math` module may be useful. Document your function with a docstring and test your function for a few different years.  Do this in a new cell below this one."
   ]
  },
  {
   "cell_type": "code",
   "execution_count": 5,
   "metadata": {
    "collapsed": true
   },
   "outputs": [],
   "source": [
    "# STA 141B, Assignment 1\n",
    "\n",
    "import math"
   ]
  },
  {
   "cell_type": "code",
   "execution_count": 2,
   "metadata": {
    "collapsed": false
   },
   "outputs": [
    {
     "ename": "NameError",
     "evalue": "name 'math' is not defined",
     "output_type": "error",
     "traceback": [
      "\u001b[1;31m---------------------------------------------------------------------------\u001b[0m",
      "\u001b[1;31mNameError\u001b[0m                                 Traceback (most recent call last)",
      "\u001b[1;32m<ipython-input-2-e6814e7e09a0>\u001b[0m in \u001b[0;36m<module>\u001b[1;34m()\u001b[0m\n\u001b[0;32m      9\u001b[0m     \u001b[1;32mreturn\u001b[0m\u001b[1;33m(\u001b[0m\u001b[0manchor_day\u001b[0m\u001b[1;33m)\u001b[0m\u001b[1;33m\u001b[0m\u001b[0m\n\u001b[0;32m     10\u001b[0m \u001b[1;33m\u001b[0m\u001b[0m\n\u001b[1;32m---> 11\u001b[1;33m \u001b[1;32massert\u001b[0m \u001b[0mAnchor\u001b[0m\u001b[1;33m(\u001b[0m\u001b[1;36m1954\u001b[0m\u001b[1;33m)\u001b[0m \u001b[1;33m==\u001b[0m \u001b[0mAnchor\u001b[0m\u001b[1;33m(\u001b[0m\u001b[1;36m1900\u001b[0m\u001b[1;33m)\u001b[0m\u001b[1;33m\u001b[0m\u001b[0m\n\u001b[0m",
      "\u001b[1;32m<ipython-input-2-e6814e7e09a0>\u001b[0m in \u001b[0;36mAnchor\u001b[1;34m(year)\u001b[0m\n\u001b[0;32m      5\u001b[0m     \u001b[1;33m>>\u001b[0m\u001b[1;33m>\u001b[0m\u001b[0mAnchor\u001b[0m\u001b[1;33m(\u001b[0m\u001b[1;36m1954\u001b[0m\u001b[1;33m)\u001b[0m\u001b[1;33m==\u001b[0m\u001b[1;36m3\u001b[0m\u001b[1;33m\u001b[0m\u001b[0m\n\u001b[0;32m      6\u001b[0m     >>>Anchor(1900)==3\"\"\"\n\u001b[1;32m----> 7\u001b[1;33m     \u001b[0mcentury\u001b[0m\u001b[1;33m=\u001b[0m\u001b[0mmath\u001b[0m\u001b[1;33m.\u001b[0m\u001b[0mfloor\u001b[0m\u001b[1;33m(\u001b[0m\u001b[0myear\u001b[0m\u001b[1;33m/\u001b[0m\u001b[1;36m100\u001b[0m\u001b[1;33m)\u001b[0m\u001b[1;33m\u001b[0m\u001b[0m\n\u001b[0m\u001b[0;32m      8\u001b[0m     \u001b[0manchor_day\u001b[0m\u001b[1;33m=\u001b[0m\u001b[1;33m(\u001b[0m\u001b[1;36m5\u001b[0m\u001b[1;33m*\u001b[0m\u001b[1;33m(\u001b[0m\u001b[0mcentury\u001b[0m\u001b[1;33m%\u001b[0m\u001b[1;36m4\u001b[0m\u001b[1;33m)\u001b[0m\u001b[1;33m+\u001b[0m\u001b[1;36m2\u001b[0m\u001b[1;33m)\u001b[0m\u001b[1;33m%\u001b[0m\u001b[1;36m7\u001b[0m\u001b[1;33m\u001b[0m\u001b[0m\n\u001b[0;32m      9\u001b[0m     \u001b[1;32mreturn\u001b[0m\u001b[1;33m(\u001b[0m\u001b[0manchor_day\u001b[0m\u001b[1;33m)\u001b[0m\u001b[1;33m\u001b[0m\u001b[0m\n",
      "\u001b[1;31mNameError\u001b[0m: name 'math' is not defined"
     ]
    }
   ],
   "source": [
    "#Exercise 1.1\n",
    "\n",
    "def Anchor(year):\n",
    "    \"\"\"Gets the anchor day for any year.\n",
    "    >>>Anchor(1954)==3\n",
    "    >>>Anchor(1900)==3\"\"\"\n",
    "    century=math.floor(year/100)\n",
    "    anchor_day=(5*(century%4)+2)%7\n",
    "    return(anchor_day)\n",
    "\n",
    "assert Anchor(1954) == Anchor(1900)"
   ]
  },
  {
   "cell_type": "markdown",
   "metadata": {},
   "source": [
    "### The Doomsday\n",
    "\n",
    "Once the anchor day is known, let $y$ be the last two digits of the target year. Then the doomsday for the target year can be computed with the formula:\n",
    "$$d = \\left(y + \\left\\lfloor\\frac{y}{4}\\right\\rfloor + a\\right) \\bmod 7$$\n",
    "The result $d$ corresponds to a day of the week.\n",
    "\n",
    "__Note.__ The floor operation $\\lfloor x \\rfloor$ rounds $x$ down to the nearest integer. For instance, $\\lfloor 3.1 \\rfloor = 3$ and $\\lfloor 3.8 \\rfloor = 3$.\n",
    "\n",
    "__Example.__ Again suppose the target year is 1954. Then the anchor day is $a = 3$, and $y = 54$, so the formula gives\n",
    "$$\n",
    "d = \\left(54 + \\left\\lfloor\\frac{54}{4}\\right\\rfloor + 3\\right) \\bmod 7 = (54 + 13 + 3) \\bmod 7 = 0.\n",
    "$$\n",
    "Thus the doomsday for 1954 is Sunday.\n",
    "\n",
    "__Exercise 1.2.__ Write a function that accepts a year as input and computes the doomsday for that year. Your function may need to call the function you wrote in exercise 1.1. Make sure to document and test your function."
   ]
  },
  {
   "cell_type": "code",
   "execution_count": 6,
   "metadata": {
    "collapsed": false
   },
   "outputs": [],
   "source": [
    "def Doomsday(year):\n",
    "    \"\"\"Gets the doomsday for a given year.\n",
    "    >>>Doomsday(1954)==0\"\"\"\n",
    "    last2digits=year%100\n",
    "    doomsday=(last2digits+math.floor(last2digits/4)+Anchor(year))%7\n",
    "    return(doomsday)\n",
    "\n",
    "assert Doomsday(1954)==0"
   ]
  },
  {
   "cell_type": "markdown",
   "metadata": {},
   "source": [
    "### The Day of Week\n",
    "\n",
    "The final step in the Doomsday algorithm is to count the number of days between the target date and a nearby doomsday, modulo 7. This gives the day of the week.\n",
    "\n",
    "Every month has at least one doomsday:\n",
    "* (regular years) 1/10, 2/28\n",
    "* (leap years) 1/11, 2/29\n",
    "* 3/21, 4/4, 5/9, 6/6, 7/11, 8/8, 9/5, 10/10, 11/7, 12/12\n",
    "\n",
    "__Example.__ Suppose we want to find the day of the week for 7/21/1954. The doomsday for 1954 is Sunday, and a nearby doomsday is 7/11. There are 10 days in July between 7/11 and 7/21. Since $10 \\bmod 7 = 3$, the date 7/21/1954 falls 3 days after a Sunday, on a Wednesday.\n",
    "\n",
    "__Exercise 1.3.__ Write a function to determine the day of the week for a given day, month, and year. Be careful of leap years! Your function should return a string such as \"Thursday\" rather than a number. As usual, document and test your code."
   ]
  },
  {
   "cell_type": "code",
   "execution_count": 7,
   "metadata": {
    "collapsed": false
   },
   "outputs": [],
   "source": [
    "daysoftheweek=['Sunday','Monday','Tuesday','Wednesday','Thursday','Friday','Saturday']\n",
    "\n",
    "def FindDay(day,month,year):\n",
    "    \"\"\"Finds the day of the week for any given date by using the Doomsday Algorithm.\n",
    "    Accounts for all possible leap years, such as how 1900 is not a leap year and 2000 is.\n",
    "    >>>FindDay(22,1,2017)=='Sunday'\n",
    "    >>>FindDay(1,1,1900)=='Monday'\n",
    "    >>>FindDay(1,1,2000)=='Saturday'\"\"\"\n",
    "    the_doomsday=Doomsday(year)\n",
    "    days_adjusted=daysoftheweek[the_doomsday:]+daysoftheweek[0:the_doomsday]\n",
    "    doomsdays=[10,28,21,4,9,6,11,8,5,10,7,12]\n",
    "    if(year % 4 == 0 & year % 100 != 0 | (year % 400 == 0)):\n",
    "        doomsdays[0:2]=[11,29]\n",
    "    dooms_date=doomsdays[month-1]\n",
    "    days_between=day-dooms_date\n",
    "    the_day=days_adjusted[days_between%7]\n",
    "    return(the_day)\n",
    "\n",
    "assert FindDay(22,1,2017)=='Sunday'\n",
    "assert FindDay(1,1,1900)=='Monday'\n",
    "assert FindDay(1,1,2000)=='Saturday'"
   ]
  },
  {
   "cell_type": "markdown",
   "metadata": {},
   "source": [
    "__Exercise 1.4.__ How many times did Friday the 13th occur in the years 1900-1999? Does this number seem to be similar to other centuries?"
   ]
  },
  {
   "cell_type": "code",
   "execution_count": 9,
   "metadata": {
    "collapsed": false
   },
   "outputs": [
    {
     "name": "stdout",
     "output_type": "stream",
     "text": [
      "Friday the 13th occurred 173 times in the 20th century.\n"
     ]
    }
   ],
   "source": [
    "#Exercise 1.4\n",
    "    \n",
    "#Get all counts of Friday the 13th, year 1900 to 1999\n",
    "    \n",
    "f13count_20cen=sum([sum([1 for i in range(1,13) if FindDay(13,i,j)==\"Friday\"]) for j in range(1900,2000)])\n",
    "print(\"Friday the 13th occurred\",f13count_20cen,\"times in the 20th century.\")"
   ]
  },
  {
   "cell_type": "markdown",
   "metadata": {},
   "source": [
    "__Exercise 1.5.__ How many times did Friday the 13th occur between the year 2000 and today?"
   ]
  },
  {
   "cell_type": "code",
   "execution_count": 10,
   "metadata": {
    "collapsed": false
   },
   "outputs": [
    {
     "name": "stdout",
     "output_type": "stream",
     "text": [
      "Unadjusted: [1, 2, 2, 1, 1, 1, 2, 2, 1, 3, 1, 1, 2, 2, 1, 3, 1, 2]\n",
      "Friday the 13th occurred 28 times between 2000 and now.\n"
     ]
    }
   ],
   "source": [
    "#Exercise 1.5\n",
    "\n",
    "#Get all counts of Friday the 13th, 2000 to 2017\n",
    "\n",
    "f13count_present=[sum([1 for i in range(1,13) if FindDay(13,i,j)==\"Friday\"]) for j in range (2000,2018)]\n",
    "print(\"Unadjusted:\", f13count_present)\n",
    "\n",
    "#As we can see, there are 2 Friday the 13ths in 2017, but we are currently in January right now.\n",
    "#So we will have to remove the Friday the 13th after January\n",
    "\n",
    "f13count_present[17]=sum([1 for i in range(1,2) if FindDay(13,i,2017)==\"Friday\"])\n",
    "print(\"Friday the 13th occurred\",sum(f13count_present),\"times between 2000 and now.\")"
   ]
  },
  {
   "cell_type": "markdown",
   "metadata": {},
   "source": [
    "## Part 2: 1978 Birthdays\n",
    "\n",
    "__Exercise 2.1.__ The file `birthdays.txt` contains the number of births in the United States for each day in 1978. Inspect the file to determine the format. Note that columns are separated by the tab character, which can be entered in Python as `\\t`. Write a function that uses iterators and list comprehensions with the string methods `split()` and `strip()` to  convert each line of data to the list format\n",
    "\n",
    "```Python\n",
    "[month, day, year, count]\n",
    "```\n",
    "The elements of this list should be integers, not strings. The function `read_birthdays` provided below will help you load the file."
   ]
  },
  {
   "cell_type": "code",
   "execution_count": 14,
   "metadata": {
    "collapsed": true
   },
   "outputs": [],
   "source": [
    "def read_birthdays(file_path):\n",
    "    \"\"\"Read the contents of the birthdays file into a string.\n",
    "    \n",
    "    Arguments:\n",
    "        file_path (string): The path to the birthdays file.\n",
    "        \n",
    "    Returns:\n",
    "        string: The contents of the birthdays file.\n",
    "    \"\"\"\n",
    "    with open(file_path) as file:\n",
    "        return file.read()\n",
    "\n",
    "birthdays_raw=read_birthdays(\"birthdays.txt\")\n",
    "\n",
    "def getBirthdata(data):\n",
    "    \"\"\"Converts the raw birthdays.txt using a four step process.\n",
    "    Step 1) Strip and split by the '\\n' character\n",
    "    Step 2) Split by '\\t', this results in a 2 element list for the elements that contain birth counts.\n",
    "    Step 3) Subset out any list elements that do not contain birth elements\n",
    "    Step 4) Convert date variables to integers, and also append the integer birth counts too.\"\"\"\n",
    "    birthdata_step1=data.strip(\"\\n\").split(\"\\n\")\n",
    "    birthdata_step2=[x.split('\\t') for x in birthdata_step1]\n",
    "    birthdata_step3=[y for y in [z for z in birthdata_step2 if len(z)==2] if len(y[1])>0]\n",
    "    birthdata_step4=[list(map(int,z)) for z in [w[0].split('/') for w in birthdata_step3]]\n",
    "    [birthdata_step4[q].append(int(birthdata_step3[q][1])) for q in range(len(birthdata_step4))]\n",
    "    return(birthdata_step4)\n",
    "    \n",
    "birthdays=getBirthdata(birthdays_raw)\n",
    "\n",
    "#There are 365 days in 1978, therefore there should be 365 list elements.\n",
    "\n",
    "assert len(birthdays)==365"
   ]
  },
  {
   "cell_type": "markdown",
   "metadata": {},
   "source": [
    "__Exercise 2.2.__ Which month had the most births in 1978? Which day of the week had the most births? Which day of the week had the fewest? What conclusions can you draw? You may find the `Counter` class in the `collections` module useful."
   ]
  },
  {
   "cell_type": "code",
   "execution_count": 29,
   "metadata": {
    "collapsed": false
   },
   "outputs": [
    {
     "name": "stdout",
     "output_type": "stream",
     "text": [
      "[('Feb', 249875), ('Apr', 254577), ('Jan', 270695), ('Jun', 270756), ('May', 270812), ('Nov', 274671), ('Mar', 276584), ('Dec', 284927), ('Oct', 288955), ('Sep', 293891), ('Jul', 294701), ('Aug', 302795)]\n",
      "August had the most births.\n",
      "[('Sunday', 421400), ('Saturday', 432085), ('Monday', 487309), ('Thursday', 493149), ('Wednesday', 493897), ('Friday', 500541), ('Tuesday', 504858)]\n",
      "Tuesday had the most births and Friday had the least births.\n"
     ]
    }
   ],
   "source": [
    "#Exercise 2.2\n",
    "\n",
    "#Counts by month:\n",
    "\n",
    "birthbymonth=[sum([birthdays[y][3] for y in range(365) if [birthdays[x][0] for x in range(365)][y] == z]) for z in range(1,13)]\n",
    "\n",
    "months=['Jan','Feb','Mar','Apr','May','Jun','Jul','Aug','Sep','Oct','Nov','Dec']\n",
    "\n",
    "monthbirth_dict={months[i]:birthbymonth[i] for i in range(12)}\n",
    "\n",
    "print(sorted(monthbirth_dict.items(), key = lambda x: x[1]))\n",
    "\n",
    "print(\"August had the most births.\")\n",
    "\n",
    "#Counts by day of the week\n",
    "#Show that the first day of the week is a Sunday:\n",
    "FindDay(1,1,1978)\n",
    "\n",
    "#Use list comprehension to find birth counts for each day by using the modulus of 7.\n",
    "\n",
    "birthbyday=[sum([birthdays[x][3] for x in range(365) if x % 7 == y]) for y in range(7)]\n",
    "\n",
    "daybirth_dict={daysoftheweek[i]:birthbyday[i] for i in range(7)}\n",
    "\n",
    "print(sorted(daybirth_dict.items(), key = lambda x: x[1]))\n",
    "\n",
    "print(\"Tuesday had the most births and Sunday had the least births.\")"
   ]
  },
  {
   "cell_type": "markdown",
   "metadata": {},
   "source": [
    "__Exercise 2.3.__ What would be an effective way to present the information in exercise 2.2? You don't need to write any code for this exercise, just discuss what you would do."
   ]
  },
  {
   "cell_type": "markdown",
   "metadata": {},
   "source": [
    "An effective way to present the information in exercise 2.2 would be to use a time series plot. We could show the variation of births from day to day and month to month."
   ]
  },
  {
   "cell_type": "code",
   "execution_count": null,
   "metadata": {
    "collapsed": true
   },
   "outputs": [],
   "source": []
  }
 ],
 "metadata": {
  "anaconda-cloud": {},
  "kernelspec": {
   "display_name": "Python 3",
   "language": "python",
   "name": "python3"
  },
  "language_info": {
   "codemirror_mode": {
    "name": "ipython",
    "version": 3
   },
   "file_extension": ".py",
   "mimetype": "text/x-python",
   "name": "python",
   "nbconvert_exporter": "python",
   "pygments_lexer": "ipython3",
   "version": "3.5.1"
  }
 },
 "nbformat": 4,
 "nbformat_minor": 2
}
