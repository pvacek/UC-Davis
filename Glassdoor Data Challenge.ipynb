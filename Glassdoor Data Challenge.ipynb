{
 "cells": [
  {
   "cell_type": "markdown",
   "metadata": {},
   "source": [
    "# Glassdoor Data Challenge\n",
    "\n",
    "__Notebook written by Patrick Vacek__\n",
    "\n",
    "This will be my notebook where I provide code and answers to my questions for the Glassdoor Data Challenge. We'll start this notebook by importing some essential packages."
   ]
  },
  {
   "cell_type": "code",
   "execution_count": 34,
   "metadata": {
    "collapsed": true
   },
   "outputs": [],
   "source": [
    "import pandas as pd\n",
    "import numpy as np\n",
    "import os\n",
    "import re\n",
    "\n",
    "%matplotlib inline\n",
    "import matplotlib\n",
    "import matplotlib.pyplot as plt\n",
    "matplotlib.rcParams['figure.figsize'] = (10, 7.0)\n",
    "pd.options.mode.chained_assignment = None\n",
    "import seaborn as sns"
   ]
  },
  {
   "cell_type": "markdown",
   "metadata": {},
   "source": [
    "__Reading in the data__\n",
    "\n",
    "Since we're working with a .xlsx file, reading this in Pandas may be a little tricky. I've placed the file in one of my class folders, so let's extract it from there. We'll read in the _data_ tab and also the _buckets_ tab. The _data_ tab will serve as our primary data and the _buckets_ tab will serve as our auxiliary data."
   ]
  },
  {
   "cell_type": "code",
   "execution_count": 2,
   "metadata": {
    "collapsed": false
   },
   "outputs": [],
   "source": [
    "os.chdir('C:/Users/Patrick Vacek/Desktop/SQ17/STA 160')\n",
    "glassdoor_data=pd.read_excel('GlassdoorDataSet.xlsx','Data')\n",
    "buckets=pd.read_excel('GlassdoorDataSet.xlsx','Industry Buckets')"
   ]
  },
  {
   "cell_type": "markdown",
   "metadata": {},
   "source": [
    "__Question 1:__ How many deals are in the dataset?\n",
    "\n",
    "Based on the observations in the dataset, each observation (row) is a deal. We can find the number of rows in the dataset by calling the __len()__ function."
   ]
  },
  {
   "cell_type": "code",
   "execution_count": 18,
   "metadata": {
    "collapsed": false
   },
   "outputs": [
    {
     "data": {
      "text/plain": [
       "1636"
      ]
     },
     "execution_count": 18,
     "metadata": {},
     "output_type": "execute_result"
    }
   ],
   "source": [
    "len(glassdoor_data)"
   ]
  },
  {
   "cell_type": "markdown",
   "metadata": {},
   "source": [
    "__Question 2:__ What is the total amount of BaseBY1 sold?\n",
    "\n",
    "We can start by examining the variable itself, by calling the variable by name, as a Pandas series, we notice that the data type is a float, which means we can perform the __sum()__ function on it."
   ]
  },
  {
   "cell_type": "code",
   "execution_count": 26,
   "metadata": {
    "collapsed": false
   },
   "outputs": [
    {
     "data": {
      "text/plain": [
       "0    110400.000\n",
       "1     17000.000\n",
       "2    563500.000\n",
       "3     66700.500\n",
       "4         0.000\n",
       "5     60000.000\n",
       "6     12750.000\n",
       "7     90000.000\n",
       "8    300000.000\n",
       "9    100910.385\n",
       "Name: BaseBY1, dtype: float64"
      ]
     },
     "execution_count": 26,
     "metadata": {},
     "output_type": "execute_result"
    }
   ],
   "source": [
    "glassdoor_data.BaseBY1[:10]"
   ]
  },
  {
   "cell_type": "code",
   "execution_count": 27,
   "metadata": {
    "collapsed": false
   },
   "outputs": [
    {
     "data": {
      "text/plain": [
       "170375385.45999998"
      ]
     },
     "execution_count": 27,
     "metadata": {},
     "output_type": "execute_result"
    }
   ],
   "source": [
    "glassdoor_data.BaseBY1.sum()"
   ]
  },
  {
   "cell_type": "markdown",
   "metadata": {},
   "source": [
    "By round the fraction of cents, we get our answer as __\\$170,375,385.46__\n",
    "\n",
    "Let's move onto the __third question__ now: __which accounts have been customers of Glassdoor the longest?__"
   ]
  },
  {
   "cell_type": "code",
   "execution_count": 33,
   "metadata": {
    "collapsed": false
   },
   "outputs": [
    {
     "data": {
      "text/plain": [
       "Partner           1101\n",
       "Past Partner       449\n",
       "Lapsed Partner      86\n",
       "Name: CustomerStatus, dtype: int64"
      ]
     },
     "execution_count": 33,
     "metadata": {},
     "output_type": "execute_result"
    }
   ],
   "source": [
    "glassdoor_data.CustomerStatus.value_counts()"
   ]
  },
  {
   "cell_type": "markdown",
   "metadata": {},
   "source": [
    "We have 3 distinct categories. It seems apparent that ongoing partnerships fall under the \"Partner\" category, so we'll subset by that."
   ]
  },
  {
   "cell_type": "code",
   "execution_count": 39,
   "metadata": {
    "collapsed": false
   },
   "outputs": [
    {
     "data": {
      "text/html": [
       "<div>\n",
       "<table border=\"1\" class=\"dataframe\">\n",
       "  <thead>\n",
       "    <tr style=\"text-align: right;\">\n",
       "      <th></th>\n",
       "      <th>CloseDate</th>\n",
       "      <th>AgencyOfRecord</th>\n",
       "      <th>WinNumber</th>\n",
       "      <th>AccountName</th>\n",
       "      <th>FirstCustomerDate</th>\n",
       "      <th>OppOwnerName</th>\n",
       "      <th>OppOwnerTeam</th>\n",
       "      <th>CustomerStatus</th>\n",
       "      <th>Industry</th>\n",
       "      <th>AverageContractTerm</th>\n",
       "      <th>...</th>\n",
       "      <th>MaxEndDate</th>\n",
       "      <th>BaselineSubscriptionBY1</th>\n",
       "      <th>BaselineNonSubscriptionBY1</th>\n",
       "      <th>SubscriptionOppsRenewing</th>\n",
       "      <th>NonSubscriptionOppsRenewing</th>\n",
       "      <th>RenewalBY1</th>\n",
       "      <th>RenewalSubscriptionBY1</th>\n",
       "      <th>RenewalNonSubscriptionBY1</th>\n",
       "      <th>SubscriptionOppsRenewed</th>\n",
       "      <th>NonSubscriptionOppsRenewed</th>\n",
       "    </tr>\n",
       "  </thead>\n",
       "  <tbody>\n",
       "    <tr>\n",
       "      <th>4</th>\n",
       "      <td>2011-11-22</td>\n",
       "      <td>NaN</td>\n",
       "      <td>4</td>\n",
       "      <td>Alphafax</td>\n",
       "      <td>2010-04-22</td>\n",
       "      <td>Melissa Garrett</td>\n",
       "      <td>US Large Biz Growth</td>\n",
       "      <td>Partner</td>\n",
       "      <td>Technology</td>\n",
       "      <td>12.0</td>\n",
       "      <td>...</td>\n",
       "      <td>2014-01-03</td>\n",
       "      <td>0.0</td>\n",
       "      <td>0.0</td>\n",
       "      <td>0</td>\n",
       "      <td>0</td>\n",
       "      <td>0.0</td>\n",
       "      <td>0.0</td>\n",
       "      <td>0.0</td>\n",
       "      <td>NaN</td>\n",
       "      <td>NaN</td>\n",
       "    </tr>\n",
       "    <tr>\n",
       "      <th>5</th>\n",
       "      <td>2013-07-29</td>\n",
       "      <td>NaN</td>\n",
       "      <td>7</td>\n",
       "      <td>Zoocorporation LLC</td>\n",
       "      <td>2010-04-22</td>\n",
       "      <td>Miranda Schmidt</td>\n",
       "      <td>US Medium Biz Growth</td>\n",
       "      <td>Partner</td>\n",
       "      <td>Consulting</td>\n",
       "      <td>12.0</td>\n",
       "      <td>...</td>\n",
       "      <td>2014-08-04</td>\n",
       "      <td>60000.0</td>\n",
       "      <td>0.0</td>\n",
       "      <td>1</td>\n",
       "      <td>0</td>\n",
       "      <td>150000.0</td>\n",
       "      <td>150000.0</td>\n",
       "      <td>0.0</td>\n",
       "      <td>1.0</td>\n",
       "      <td>0.0</td>\n",
       "    </tr>\n",
       "    <tr>\n",
       "      <th>6</th>\n",
       "      <td>2014-01-08</td>\n",
       "      <td>NaN</td>\n",
       "      <td>9</td>\n",
       "      <td>Zoocorporation LLC</td>\n",
       "      <td>2010-04-22</td>\n",
       "      <td>Miranda Schmidt</td>\n",
       "      <td>US Medium Biz Growth</td>\n",
       "      <td>Partner</td>\n",
       "      <td>Consulting</td>\n",
       "      <td>3.0</td>\n",
       "      <td>...</td>\n",
       "      <td>2014-03-31</td>\n",
       "      <td>0.0</td>\n",
       "      <td>12750.0</td>\n",
       "      <td>0</td>\n",
       "      <td>1</td>\n",
       "      <td>0.0</td>\n",
       "      <td>0.0</td>\n",
       "      <td>0.0</td>\n",
       "      <td>NaN</td>\n",
       "      <td>NaN</td>\n",
       "    </tr>\n",
       "    <tr>\n",
       "      <th>7</th>\n",
       "      <td>2013-06-25</td>\n",
       "      <td>NaN</td>\n",
       "      <td>5</td>\n",
       "      <td>Gogoware Partners</td>\n",
       "      <td>2010-04-28</td>\n",
       "      <td>Luke Gomez</td>\n",
       "      <td>US Medium Biz Growth</td>\n",
       "      <td>Partner</td>\n",
       "      <td>Communications</td>\n",
       "      <td>12.0</td>\n",
       "      <td>...</td>\n",
       "      <td>2014-06-30</td>\n",
       "      <td>90000.0</td>\n",
       "      <td>0.0</td>\n",
       "      <td>1</td>\n",
       "      <td>0</td>\n",
       "      <td>210000.0</td>\n",
       "      <td>150000.0</td>\n",
       "      <td>60000.0</td>\n",
       "      <td>1.0</td>\n",
       "      <td>1.0</td>\n",
       "    </tr>\n",
       "    <tr>\n",
       "      <th>8</th>\n",
       "      <td>2013-12-12</td>\n",
       "      <td>NaN</td>\n",
       "      <td>6</td>\n",
       "      <td>Tampplus</td>\n",
       "      <td>2010-05-10</td>\n",
       "      <td>Ann Rowe</td>\n",
       "      <td>US Medium Biz Growth</td>\n",
       "      <td>Partner</td>\n",
       "      <td>Other</td>\n",
       "      <td>12.0</td>\n",
       "      <td>...</td>\n",
       "      <td>2014-12-31</td>\n",
       "      <td>100000.0</td>\n",
       "      <td>200000.0</td>\n",
       "      <td>1</td>\n",
       "      <td>1</td>\n",
       "      <td>0.0</td>\n",
       "      <td>0.0</td>\n",
       "      <td>0.0</td>\n",
       "      <td>NaN</td>\n",
       "      <td>NaN</td>\n",
       "    </tr>\n",
       "  </tbody>\n",
       "</table>\n",
       "<p>5 rows × 21 columns</p>\n",
       "</div>"
      ],
      "text/plain": [
       "   CloseDate AgencyOfRecord  WinNumber         AccountName FirstCustomerDate  \\\n",
       "4 2011-11-22            NaN          4           Alphafax         2010-04-22   \n",
       "5 2013-07-29            NaN          7  Zoocorporation LLC        2010-04-22   \n",
       "6 2014-01-08            NaN          9  Zoocorporation LLC        2010-04-22   \n",
       "7 2013-06-25            NaN          5   Gogoware Partners        2010-04-28   \n",
       "8 2013-12-12            NaN          6           Tampplus         2010-05-10   \n",
       "\n",
       "      OppOwnerName          OppOwnerTeam CustomerStatus        Industry  \\\n",
       "4  Melissa Garrett   US Large Biz Growth        Partner      Technology   \n",
       "5  Miranda Schmidt  US Medium Biz Growth        Partner      Consulting   \n",
       "6  Miranda Schmidt  US Medium Biz Growth        Partner      Consulting   \n",
       "7       Luke Gomez  US Medium Biz Growth        Partner  Communications   \n",
       "8         Ann Rowe  US Medium Biz Growth        Partner           Other   \n",
       "\n",
       "   AverageContractTerm             ...              MaxEndDate  \\\n",
       "4                 12.0             ...              2014-01-03   \n",
       "5                 12.0             ...              2014-08-04   \n",
       "6                  3.0             ...              2014-03-31   \n",
       "7                 12.0             ...              2014-06-30   \n",
       "8                 12.0             ...              2014-12-31   \n",
       "\n",
       "  BaselineSubscriptionBY1  BaselineNonSubscriptionBY1  \\\n",
       "4                     0.0                         0.0   \n",
       "5                 60000.0                         0.0   \n",
       "6                     0.0                     12750.0   \n",
       "7                 90000.0                         0.0   \n",
       "8                100000.0                    200000.0   \n",
       "\n",
       "   SubscriptionOppsRenewing  NonSubscriptionOppsRenewing  RenewalBY1  \\\n",
       "4                         0                            0         0.0   \n",
       "5                         1                            0    150000.0   \n",
       "6                         0                            1         0.0   \n",
       "7                         1                            0    210000.0   \n",
       "8                         1                            1         0.0   \n",
       "\n",
       "   RenewalSubscriptionBY1  RenewalNonSubscriptionBY1  SubscriptionOppsRenewed  \\\n",
       "4                     0.0                        0.0                      NaN   \n",
       "5                150000.0                        0.0                      1.0   \n",
       "6                     0.0                        0.0                      NaN   \n",
       "7                150000.0                    60000.0                      1.0   \n",
       "8                     0.0                        0.0                      NaN   \n",
       "\n",
       "   NonSubscriptionOppsRenewed  \n",
       "4                         NaN  \n",
       "5                         0.0  \n",
       "6                         NaN  \n",
       "7                         1.0  \n",
       "8                         NaN  \n",
       "\n",
       "[5 rows x 21 columns]"
      ]
     },
     "execution_count": 39,
     "metadata": {},
     "output_type": "execute_result"
    }
   ],
   "source": [
    "#Subset the data to the partner status being current\n",
    "current_partners=glassdoor_data[glassdoor_data[\"CustomerStatus\"]==\"Partner\"]\n",
    "#For sanity check purposes, sort the data by first customer date\n",
    "current_partners.sort_values(by=\"FirstCustomerDate\").head()"
   ]
  },
  {
   "cell_type": "markdown",
   "metadata": {},
   "source": [
    "By examining the head of the dataframe, we observe that __Alphafax__ and __Zoocorporation LLC__ are tied in account age. So those are the two customers that have been here the longest. Onto the next question.\n",
    "\n",
    "__What is the ratio of subscription baseline BY1 to non-subscription baseline BY1?__"
   ]
  },
  {
   "cell_type": "code",
   "execution_count": 46,
   "metadata": {
    "collapsed": false
   },
   "outputs": [
    {
     "data": {
      "text/plain": [
       "1.5072842085900928"
      ]
     },
     "execution_count": 46,
     "metadata": {},
     "output_type": "execute_result"
    }
   ],
   "source": [
    "#Do as we did in problem 2 (with pandas summation), but do it for each column and divide the sum afterwards.\n",
    "glassdoor_data.BaselineSubscriptionBY1.sum()/glassdoor_data.BaselineNonSubscriptionBY1.sum()"
   ]
  },
  {
   "cell_type": "markdown",
   "metadata": {},
   "source": [
    "Our answer appears to be __1.507__. Onto question 5: __How many deals in the data set did the Staffing Agency team book?__\n",
    "\n",
    "Based on the field names, it appears that the staffing team falls under the _'OppOwnerTeam'_ variable. Now, let's check its table:"
   ]
  },
  {
   "cell_type": "code",
   "execution_count": 51,
   "metadata": {
    "collapsed": false
   },
   "outputs": [
    {
     "data": {
      "text/plain": [
       "US Large Biz Growth         548\n",
       "US Medium Biz Growth        336\n",
       "US Small Biz Growth         303\n",
       "US Large Biz Hunter         155\n",
       "US Small Biz Hunters        143\n",
       "US Medium Biz Hunter         97\n",
       "Staffing Agencies            25\n",
       "US Very Small Biz Growth     12\n",
       "Europe Large Biz Hunter      12\n",
       "Europe Small Biz Growth       4\n",
       "Europe Large Biz Growth       1\n",
       "Name: OppOwnerTeam, dtype: int64"
      ]
     },
     "execution_count": 51,
     "metadata": {},
     "output_type": "execute_result"
    }
   ],
   "source": [
    "glassdoor_data.OppOwnerTeam.value_counts()"
   ]
  },
  {
   "cell_type": "markdown",
   "metadata": {},
   "source": [
    "The 'Staffing Agencies' team appears __25__ times, which is our answer. Next question: __What date has the most end dates fall on it?__\n",
    "\n",
    "We will examine the _'MaxEndDate'_ variable for this question. Once again, we can examine a table and look at the counts."
   ]
  },
  {
   "cell_type": "code",
   "execution_count": 53,
   "metadata": {
    "collapsed": false
   },
   "outputs": [
    {
     "data": {
      "text/plain": [
       "2014-12-31    300\n",
       "2014-06-30     71\n",
       "2014-01-31     65\n",
       "2014-09-30     45\n",
       "2014-07-31     36\n",
       "2014-08-31     35\n",
       "2014-03-31     35\n",
       "2014-02-28     32\n",
       "2014-10-31     26\n",
       "2014-04-30     26\n",
       "Name: MaxEndDate, dtype: int64"
      ]
     },
     "execution_count": 53,
     "metadata": {},
     "output_type": "execute_result"
    }
   ],
   "source": [
    "glassdoor_data.MaxEndDate.value_counts()[:10]"
   ]
  },
  {
   "cell_type": "markdown",
   "metadata": {},
   "source": [
    "Based on our table, the date that has the most end dates is __December 31, 2014__. Seventh question: __What agency of record has the highest average BaseBY1?__\n",
    "\n",
    "Now we will have to do some group operations. We'll by examining the _'AgencyOfRecord'_ variable here. We can do a groupby in Pandas with the __groupby()__ function, then we select the variable and call the __mean()__ function. We'll need to sort our table, so we'll save it first."
   ]
  },
  {
   "cell_type": "code",
   "execution_count": 72,
   "metadata": {
    "collapsed": false
   },
   "outputs": [
    {
     "data": {
      "text/plain": [
       "AgencyOfRecord\n",
       "Boy & Scarecrow      977500.115000\n",
       "Parent & Board       371450.000000\n",
       "Lamb & Diamond       366863.128750\n",
       "Vest & Marlin        359698.833333\n",
       "Cream & Dinner       346972.930000\n",
       "Hobby & Veil         243809.417500\n",
       "Brother & Book       212500.000000\n",
       "Linen & Coach        177243.767500\n",
       "Bedroom & Nest       170348.247500\n",
       "Geese & Beauty       152128.920000\n",
       "Desk & Vapor         151725.000000\n",
       "Cobalt & Cord        148345.963125\n",
       "Whale & Temper       140058.284233\n",
       "Crate & Kerning      139643.403571\n",
       "Loon & Nation        127750.000000\n",
       "Battle & Stars       127500.000000\n",
       "Fern & Garnet        124034.975000\n",
       "Buoy & Home          113191.666667\n",
       "Spigot & Field       108375.000000\n",
       "Victim & Steam        99115.243438\n",
       "Geese & Music         87797.151667\n",
       "Vase & Marlin         86374.652188\n",
       "Maid & Parsley        84322.592500\n",
       "Wharves & Camphor     84150.000000\n",
       "Village & Meat        80339.830455\n",
       "Whale & Mushroom      79615.536481\n",
       "Amber & Hearth        70380.000000\n",
       "Robin & Hearth        65025.000000\n",
       "Jackal & Pearl        63779.364231\n",
       "Bourbon & Sword       61882.125000\n",
       "Cobweb & Clam         51070.833333\n",
       "Chair & Cotton        50827.027821\n",
       "Dove & Denim          49961.583333\n",
       "Clock & Captain       19985.625000\n",
       "Amber & Jar           15937.500000\n",
       "Name: BaseBY1, dtype: float64"
      ]
     },
     "execution_count": 72,
     "metadata": {},
     "output_type": "execute_result"
    }
   ],
   "source": [
    "agency_BY1=glassdoor_data.groupby(\"AgencyOfRecord\").BaseBY1.mean()\n",
    "agency_BY1[agency_BY1.values.argsort()[::-1]]"
   ]
  },
  {
   "cell_type": "markdown",
   "metadata": {},
   "source": [
    "Thus, our answer is __Boy & Scarecrow__.\n",
    "\n",
    "Onto the eigth question: __How much larger, on average are US Large Biz Hunter deals than US Small Biz Hunter deal (by BaseBY1)?__\n",
    "\n",
    "We'll be using the groupby functionality again for this. Our strategy is to get a table of mean _'BaseBY1'_ for the _'OppOwnerTeam'_ variable, and then subtracting the difference between the two categories."
   ]
  },
  {
   "cell_type": "code",
   "execution_count": 80,
   "metadata": {
    "collapsed": false
   },
   "outputs": [
    {
     "data": {
      "text/plain": [
       "42383.026181367037"
      ]
     },
     "execution_count": 80,
     "metadata": {},
     "output_type": "execute_result"
    }
   ],
   "source": [
    "team_BY1=glassdoor_data.groupby(\"OppOwnerTeam\").BaseBY1.mean()\n",
    "team_BY1[\"US Large Biz Hunter\"]-team_BY1[\"US Small Biz Hunters\"]"
   ]
  },
  {
   "cell_type": "markdown",
   "metadata": {},
   "source": [
    "Thus, US Large Biz Hunter deals are on average __\\$42,383.03__ larger. Upcoming question: __What rep had the most banking deals?__ For this question, we will assume that \"rep\" means someone who is a sales representative. So we'll use the _'OppOwnerName'_ variable."
   ]
  },
  {
   "cell_type": "code",
   "execution_count": 84,
   "metadata": {
    "collapsed": false
   },
   "outputs": [
    {
     "data": {
      "text/plain": [
       "Heidi Dennis        5\n",
       "Brandon Scott       4\n",
       "Santos Simmons      3\n",
       "Myron Hines         2\n",
       "Annette Chavez      2\n",
       "Kenny Fox           2\n",
       "Sherman Harper      2\n",
       "Ann Rowe            1\n",
       "Manuel Jennings     1\n",
       "Pedro Wise          1\n",
       "Rochelle Walters    1\n",
       "Abraham Powell      1\n",
       "Preston Shelton     1\n",
       "Name: OppOwnerName, dtype: int64"
      ]
     },
     "execution_count": 84,
     "metadata": {},
     "output_type": "execute_result"
    }
   ],
   "source": [
    "banking_sales=glassdoor_data[glassdoor_data[\"Industry\"]==\"Banking\"]\n",
    "banking_sales.OppOwnerName.value_counts()"
   ]
  },
  {
   "cell_type": "markdown",
   "metadata": {},
   "source": [
    "It is apparent that __Heidi Dennis__ has made the most banking sales. Now onto question 10: __What is the average win number for deals that have an agency of record, weighted by BaseBY1?__\n",
    "\n",
    "The question is a little bit ambiguous for me, so I will assume that it is asking for a weighted mean, which means we multipy the two variables together, sum the product and then divide by the size of the subset."
   ]
  },
  {
   "cell_type": "code",
   "execution_count": 146,
   "metadata": {
    "collapsed": false
   },
   "outputs": [
    {
     "data": {
      "text/plain": [
       "565330.8010840707"
      ]
     },
     "execution_count": 146,
     "metadata": {},
     "output_type": "execute_result"
    }
   ],
   "source": [
    "#Since the column is a bit irregular, we need to convert it to a string, then remove NA with the contains() function\n",
    "entries_with_agencies=glassdoor_data.AgencyOfRecord.str.contains('.',na=False)\n",
    "#The period is a regex wildcard operator\n",
    "agency_data=glassdoor_data[entries_with_agencies]\n",
    "weighted_win=agency_data.WinNumber*agency_data.BaseBY1\n",
    "weighted_win.mean()"
   ]
  },
  {
   "cell_type": "markdown",
   "metadata": {},
   "source": [
    "Therefore, our answer is __\\$565,330.80__. Our next question is: __What Industry Bucket has the smallest average BaseBY1?__\n",
    "\n",
    "We know that the _'Industry Bucket'_ variable is in a separate dataset called __buckets__. We'll need to map the _'Industry'_ variable to its corresponding bucket. We can do this pretty easily in Python with a dictionary. We'll use the __map()__ function  to create the new variable _'Bucket'_ inside the main dataset.\n",
    "\n",
    "Afterwards, we'll use a __groupby()__ and get the mean BaseBY1, and then observe."
   ]
  },
  {
   "cell_type": "code",
   "execution_count": 164,
   "metadata": {
    "collapsed": false
   },
   "outputs": [
    {
     "data": {
      "text/plain": [
       "Bucket\n",
       "Financial and Professional Services               104164.412600\n",
       "Government/Non-Profit                             147938.083158\n",
       "Healthcare and Pharmaceuticals                     86607.134188\n",
       "Labor/Manufacturing/Chemicals                     136507.694498\n",
       "Other                                              90477.852534\n",
       "Retail/Food/Real Estate                            97291.864379\n",
       "Tech/Telco/IT/Electronics                          96127.987111\n",
       "Travel/Transportation/Education/Entertaintment     99528.139359\n",
       "Name: BaseBY1, dtype: float64"
      ]
     },
     "execution_count": 164,
     "metadata": {},
     "output_type": "execute_result"
    }
   ],
   "source": [
    "#Make the dictionary, the keys are the industry and the values are the corresponding buckets\n",
    "buckets_dict=dict(zip(buckets[\"Industry\"],buckets[\"Industry Bucket\"]))\n",
    "#Create the variable with the map function\n",
    "glassdoor_data[\"Bucket\"]=glassdoor_data.Industry.map(buckets_dict)\n",
    "#Use groupby to make the table\n",
    "glassdoor_data.groupby(\"Bucket\").BaseBY1.mean()"
   ]
  },
  {
   "cell_type": "markdown",
   "metadata": {},
   "source": [
    "Based on our table, the __Healthcare and Pharmaceuticals__ bucket has the smallest average BaseBY1. Question 12: __What month (by close date) has the greatest total RenewalBY1 to Base BY1 ratio?__"
   ]
  },
  {
   "cell_type": "code",
   "execution_count": 196,
   "metadata": {
    "collapsed": false
   },
   "outputs": [
    {
     "data": {
      "text/plain": [
       "CloseMonth\n",
       "2014-12         inf\n",
       "2012-08    4.737063\n",
       "2014-11    3.471039\n",
       "2012-09    2.734389\n",
       "2012-01    2.244585\n",
       "2012-07    2.046374\n",
       "2014-03    1.875846\n",
       "2012-12    1.740285\n",
       "2014-01    1.708416\n",
       "2014-02    1.696731\n",
       "2014-09    1.692269\n",
       "2014-10    1.552559\n",
       "2014-05    1.540981\n",
       "2014-07    1.433828\n",
       "2012-10    1.404101\n",
       "2012-11    1.393632\n",
       "2014-06    1.331533\n",
       "2013-04    1.312847\n",
       "2013-01    1.295197\n",
       "2013-07    1.261941\n",
       "2013-06    1.198071\n",
       "2014-08    1.197529\n",
       "2013-03    1.145731\n",
       "2013-08    1.127379\n",
       "2013-12    1.071291\n",
       "2013-02    1.063721\n",
       "2012-03    0.994759\n",
       "2013-09    0.954051\n",
       "2013-05    0.945160\n",
       "2013-10    0.924849\n",
       "2013-11    0.895115\n",
       "2014-04    0.686462\n",
       "2012-05    0.129844\n",
       "2012-06    0.000000\n",
       "2011-11    0.000000\n",
       "Freq: M, dtype: float64"
      ]
     },
     "execution_count": 196,
     "metadata": {},
     "output_type": "execute_result"
    }
   ],
   "source": [
    "glassdoor_data[\"CloseMonth\"]=glassdoor_data.CloseDate.dt.to_period(\"M\")\n",
    "renewal_base_ratios=glassdoor_data.groupby(\"CloseMonth\").RenewalBY1.sum()/glassdoor_data.groupby(\"CloseMonth\").BaseBY1.sum()\n",
    "renewal_base_ratios[renewal_base_ratios.argsort()][::-1]"
   ]
  },
  {
   "cell_type": "markdown",
   "metadata": {},
   "source": [
    "Our answer is __August 2012__. I am not counting December 2014 because there is likely an insufficient amount of data. Next question: __What consecutive 7 day period (by close date) had the most BaseBY1 sold? (Give me just the first day. Not all 7 days must have sales)__ This one was a tricky one, and it took a while. I had to look up some documentation at this point to get the answer."
   ]
  },
  {
   "cell_type": "code",
   "execution_count": 263,
   "metadata": {
    "collapsed": false
   },
   "outputs": [
    {
     "data": {
      "text/plain": [
       "Timestamp('2014-11-11 00:00:00')"
      ]
     },
     "execution_count": 263,
     "metadata": {},
     "output_type": "execute_result"
    }
   ],
   "source": [
    "BY1_by_day=glassdoor_data.groupby('CloseDate').BaseBY1.sum()\n",
    "offsets=BY1_by_day.index+pd.tseries.offsets.Week()\n",
    "weekly_sums=np.array([BY1_by_day[BY1_by_day.index<=o].sum() for o in offsets])\n",
    "start_of_largest_sum=offsets[np.argmax(weekly_sums)]-pd.tseries.offsets.Week()\n",
    "start_of_largest_sum"
   ]
  },
  {
   "cell_type": "markdown",
   "metadata": {},
   "source": [
    "Our answer is __November 11 2014__. At this point, I was out of time. I decided that the last two questions would not be worth answering as I would have to keep using documentation to write my solutions, instead of doing it automatically."
   ]
  },
  {
   "cell_type": "markdown",
   "metadata": {},
   "source": [
    "# Data Exploration (~2 hours)\n",
    "\n",
    "When I start this, I'll be sitting down for 2 hours and attempting to provide interesting insights for this dataset."
   ]
  },
  {
   "cell_type": "markdown",
   "metadata": {},
   "source": [
    "__How are the continuous variables related?__ We will develop a correlation heatmap to see which continuous variables are correlated and uncorrelated. We'll need to do 3 things here:\n",
    "\n",
    "1. Determine which variables are continuous\n",
    "\n",
    "2. Examine the missingness of the continuous variables\n",
    "\n",
    "3. Based on the results, 1. and 2., we'll examine the selected variables and see if they are correlated or not.\n",
    "\n",
    "__Subsetting by continuous variables__"
   ]
  },
  {
   "cell_type": "code",
   "execution_count": 6,
   "metadata": {
    "collapsed": false
   },
   "outputs": [
    {
     "data": {
      "text/plain": [
       "CloseDate                      datetime64[ns]\n",
       "AgencyOfRecord                         object\n",
       "WinNumber                               int64\n",
       "AccountName                            object\n",
       "FirstCustomerDate              datetime64[ns]\n",
       "OppOwnerName                           object\n",
       "OppOwnerTeam                           object\n",
       "CustomerStatus                         object\n",
       "Industry                               object\n",
       "AverageContractTerm                   float64\n",
       "BaseBY1                               float64\n",
       "MaxEndDate                     datetime64[ns]\n",
       "BaselineSubscriptionBY1               float64\n",
       "BaselineNonSubscriptionBY1            float64\n",
       "SubscriptionOppsRenewing                int64\n",
       "NonSubscriptionOppsRenewing             int64\n",
       "RenewalBY1                            float64\n",
       "RenewalSubscriptionBY1                float64\n",
       "RenewalNonSubscriptionBY1             float64\n",
       "SubscriptionOppsRenewed               float64\n",
       "NonSubscriptionOppsRenewed            float64\n",
       "dtype: object"
      ]
     },
     "execution_count": 6,
     "metadata": {},
     "output_type": "execute_result"
    }
   ],
   "source": [
    "glassdoor_data.dtypes"
   ]
  },
  {
   "cell_type": "code",
   "execution_count": 49,
   "metadata": {
    "collapsed": false
   },
   "outputs": [],
   "source": [
    "glassdoor_cont=glassdoor_data.select_dtypes(include=['float64','int64'])"
   ]
  },
  {
   "cell_type": "markdown",
   "metadata": {},
   "source": [
    "__Examining missingness__\n",
    "\n",
    "We know from the looking at the data earlier, that a large set of the missing values were set to 0 when we read the data in, so we'll have to account for that too. It appears that the subscription related variables are binary, so we'll need to set them back to 0 after replacing are nan values."
   ]
  },
  {
   "cell_type": "code",
   "execution_count": 50,
   "metadata": {
    "collapsed": false
   },
   "outputs": [
    {
     "data": {
      "text/plain": [
       "WinNumber                         2\n",
       "AverageContractTerm              11\n",
       "BaseBY1                          68\n",
       "BaselineSubscriptionBY1         466\n",
       "BaselineNonSubscriptionBY1      917\n",
       "RenewalBY1                      666\n",
       "RenewalSubscriptionBY1          758\n",
       "RenewalNonSubscriptionBY1      1277\n",
       "SubscriptionOppsRenewing          0\n",
       "NonSubscriptionOppsRenewing       0\n",
       "SubscriptionOppsRenewed         666\n",
       "NonSubscriptionOppsRenewed      666\n",
       "dtype: int64"
      ]
     },
     "execution_count": 50,
     "metadata": {},
     "output_type": "execute_result"
    }
   ],
   "source": [
    "subopps_cols=glassdoor_cont.columns.str.contains('SubscriptionOpps')\n",
    "glassdoor_cont_na=glassdoor_cont.loc[:,subopps_cols==False].replace(0,np.nan)\n",
    "glassdoor_cont=pd.concat([glassdoor_cont_na,glassdoor_cont.loc[:,subopps_cols==True]],axis=1)\n",
    "glassdoor_cont.isnull().sum()"
   ]
  },
  {
   "cell_type": "markdown",
   "metadata": {},
   "source": [
    "__Summary statistics__"
   ]
  },
  {
   "cell_type": "code",
   "execution_count": 53,
   "metadata": {
    "collapsed": false
   },
   "outputs": [
    {
     "data": {
      "text/html": [
       "<div>\n",
       "<table border=\"1\" class=\"dataframe\">\n",
       "  <thead>\n",
       "    <tr style=\"text-align: right;\">\n",
       "      <th></th>\n",
       "      <th>count</th>\n",
       "      <th>mean</th>\n",
       "      <th>std</th>\n",
       "      <th>min</th>\n",
       "      <th>25%</th>\n",
       "      <th>50%</th>\n",
       "      <th>75%</th>\n",
       "      <th>max</th>\n",
       "    </tr>\n",
       "  </thead>\n",
       "  <tbody>\n",
       "    <tr>\n",
       "      <th>WinNumber</th>\n",
       "      <td>1634.0</td>\n",
       "      <td>2.816401</td>\n",
       "      <td>3.100572</td>\n",
       "      <td>1.000</td>\n",
       "      <td>1.000000</td>\n",
       "      <td>2.000</td>\n",
       "      <td>3.00000</td>\n",
       "      <td>29.0</td>\n",
       "    </tr>\n",
       "    <tr>\n",
       "      <th>AverageContractTerm</th>\n",
       "      <td>1625.0</td>\n",
       "      <td>8.679921</td>\n",
       "      <td>4.107092</td>\n",
       "      <td>1.000</td>\n",
       "      <td>5.333333</td>\n",
       "      <td>10.000</td>\n",
       "      <td>12.00000</td>\n",
       "      <td>29.0</td>\n",
       "    </tr>\n",
       "    <tr>\n",
       "      <th>BaseBY1</th>\n",
       "      <td>1568.0</td>\n",
       "      <td>108657.771339</td>\n",
       "      <td>107318.278263</td>\n",
       "      <td>0.115</td>\n",
       "      <td>50928.750000</td>\n",
       "      <td>82800.000</td>\n",
       "      <td>121074.15000</td>\n",
       "      <td>1451806.0</td>\n",
       "    </tr>\n",
       "    <tr>\n",
       "      <th>BaselineSubscriptionBY1</th>\n",
       "      <td>1170.0</td>\n",
       "      <td>87492.467620</td>\n",
       "      <td>54653.409495</td>\n",
       "      <td>1076.525</td>\n",
       "      <td>55000.000000</td>\n",
       "      <td>78115.000</td>\n",
       "      <td>106137.50000</td>\n",
       "      <td>586500.0</td>\n",
       "    </tr>\n",
       "    <tr>\n",
       "      <th>BaselineNonSubscriptionBY1</th>\n",
       "      <td>719.0</td>\n",
       "      <td>94456.638866</td>\n",
       "      <td>115325.970614</td>\n",
       "      <td>0.115</td>\n",
       "      <td>30000.000000</td>\n",
       "      <td>60000.000</td>\n",
       "      <td>114875.00000</td>\n",
       "      <td>1451806.0</td>\n",
       "    </tr>\n",
       "    <tr>\n",
       "      <th>RenewalBY1</th>\n",
       "      <td>970.0</td>\n",
       "      <td>207062.634289</td>\n",
       "      <td>210808.576683</td>\n",
       "      <td>3400.000</td>\n",
       "      <td>86362.500000</td>\n",
       "      <td>138000.115</td>\n",
       "      <td>253831.69625</td>\n",
       "      <td>2185000.0</td>\n",
       "    </tr>\n",
       "    <tr>\n",
       "      <th>RenewalSubscriptionBY1</th>\n",
       "      <td>878.0</td>\n",
       "      <td>158557.366418</td>\n",
       "      <td>118034.227645</td>\n",
       "      <td>0.085</td>\n",
       "      <td>85430.086250</td>\n",
       "      <td>126500.000</td>\n",
       "      <td>189750.00000</td>\n",
       "      <td>1085000.0</td>\n",
       "    </tr>\n",
       "    <tr>\n",
       "      <th>RenewalNonSubscriptionBY1</th>\n",
       "      <td>359.0</td>\n",
       "      <td>171691.887312</td>\n",
       "      <td>192232.450243</td>\n",
       "      <td>0.230</td>\n",
       "      <td>51000.000000</td>\n",
       "      <td>117300.000</td>\n",
       "      <td>212500.00000</td>\n",
       "      <td>1437500.0</td>\n",
       "    </tr>\n",
       "    <tr>\n",
       "      <th>SubscriptionOppsRenewing</th>\n",
       "      <td>1636.0</td>\n",
       "      <td>0.715770</td>\n",
       "      <td>0.451185</td>\n",
       "      <td>0.000</td>\n",
       "      <td>0.000000</td>\n",
       "      <td>1.000</td>\n",
       "      <td>1.00000</td>\n",
       "      <td>1.0</td>\n",
       "    </tr>\n",
       "    <tr>\n",
       "      <th>NonSubscriptionOppsRenewing</th>\n",
       "      <td>1636.0</td>\n",
       "      <td>0.439487</td>\n",
       "      <td>0.496476</td>\n",
       "      <td>0.000</td>\n",
       "      <td>0.000000</td>\n",
       "      <td>0.000</td>\n",
       "      <td>1.00000</td>\n",
       "      <td>1.0</td>\n",
       "    </tr>\n",
       "    <tr>\n",
       "      <th>SubscriptionOppsRenewed</th>\n",
       "      <td>970.0</td>\n",
       "      <td>0.905155</td>\n",
       "      <td>0.293152</td>\n",
       "      <td>0.000</td>\n",
       "      <td>1.000000</td>\n",
       "      <td>1.000</td>\n",
       "      <td>1.00000</td>\n",
       "      <td>1.0</td>\n",
       "    </tr>\n",
       "    <tr>\n",
       "      <th>NonSubscriptionOppsRenewed</th>\n",
       "      <td>970.0</td>\n",
       "      <td>0.370103</td>\n",
       "      <td>0.483081</td>\n",
       "      <td>0.000</td>\n",
       "      <td>0.000000</td>\n",
       "      <td>0.000</td>\n",
       "      <td>1.00000</td>\n",
       "      <td>1.0</td>\n",
       "    </tr>\n",
       "  </tbody>\n",
       "</table>\n",
       "</div>"
      ],
      "text/plain": [
       "                              count           mean            std       min  \\\n",
       "WinNumber                    1634.0       2.816401       3.100572     1.000   \n",
       "AverageContractTerm          1625.0       8.679921       4.107092     1.000   \n",
       "BaseBY1                      1568.0  108657.771339  107318.278263     0.115   \n",
       "BaselineSubscriptionBY1      1170.0   87492.467620   54653.409495  1076.525   \n",
       "BaselineNonSubscriptionBY1    719.0   94456.638866  115325.970614     0.115   \n",
       "RenewalBY1                    970.0  207062.634289  210808.576683  3400.000   \n",
       "RenewalSubscriptionBY1        878.0  158557.366418  118034.227645     0.085   \n",
       "RenewalNonSubscriptionBY1     359.0  171691.887312  192232.450243     0.230   \n",
       "SubscriptionOppsRenewing     1636.0       0.715770       0.451185     0.000   \n",
       "NonSubscriptionOppsRenewing  1636.0       0.439487       0.496476     0.000   \n",
       "SubscriptionOppsRenewed       970.0       0.905155       0.293152     0.000   \n",
       "NonSubscriptionOppsRenewed    970.0       0.370103       0.483081     0.000   \n",
       "\n",
       "                                      25%         50%           75%        max  \n",
       "WinNumber                        1.000000       2.000       3.00000       29.0  \n",
       "AverageContractTerm              5.333333      10.000      12.00000       29.0  \n",
       "BaseBY1                      50928.750000   82800.000  121074.15000  1451806.0  \n",
       "BaselineSubscriptionBY1      55000.000000   78115.000  106137.50000   586500.0  \n",
       "BaselineNonSubscriptionBY1   30000.000000   60000.000  114875.00000  1451806.0  \n",
       "RenewalBY1                   86362.500000  138000.115  253831.69625  2185000.0  \n",
       "RenewalSubscriptionBY1       85430.086250  126500.000  189750.00000  1085000.0  \n",
       "RenewalNonSubscriptionBY1    51000.000000  117300.000  212500.00000  1437500.0  \n",
       "SubscriptionOppsRenewing         0.000000       1.000       1.00000        1.0  \n",
       "NonSubscriptionOppsRenewing      0.000000       0.000       1.00000        1.0  \n",
       "SubscriptionOppsRenewed          1.000000       1.000       1.00000        1.0  \n",
       "NonSubscriptionOppsRenewed       0.000000       0.000       1.00000        1.0  "
      ]
     },
     "execution_count": 53,
     "metadata": {},
     "output_type": "execute_result"
    }
   ],
   "source": [
    "glassdoor_cont.describe().T"
   ]
  },
  {
   "cell_type": "markdown",
   "metadata": {},
   "source": [
    "__Correlation heatmap__"
   ]
  },
  {
   "cell_type": "code",
   "execution_count": 58,
   "metadata": {
    "collapsed": false
   },
   "outputs": [
    {
     "data": {
      "image/png": "[encoded data removed]",
      "text/plain": [
       "<matplotlib.figure.Figure at 0xcc56be0>"
      ]
     },
     "metadata": {},
     "output_type": "display_data"
    }
   ],
   "source": [
    "glasscorr=glassdoor_cont.corr()\n",
    "sns.heatmap(glasscorr)\n",
    "plt.show()"
   ]
  },
  {
   "cell_type": "markdown",
   "metadata": {},
   "source": [
    "Based on our heatmap, there is not too much going on here. As expected, the revenue related variables are all fairly correlated. Some of these variables appear to be linear combinations of eachother, which may explain the values.\n",
    "\n",
    "__How are the categorical variables related?__\n",
    "\n",
    "We will need to see the number of categories per variable, and then based on that we can start developing some relationships."
   ]
  },
  {
   "cell_type": "code",
   "execution_count": 267,
   "metadata": {
    "collapsed": false
   },
   "outputs": [
    {
     "data": {
      "text/html": [
       "<div>\n",
       "<table border=\"1\" class=\"dataframe\">\n",
       "  <thead>\n",
       "    <tr style=\"text-align: right;\">\n",
       "      <th></th>\n",
       "      <th>count</th>\n",
       "      <th>unique</th>\n",
       "      <th>top</th>\n",
       "      <th>freq</th>\n",
       "    </tr>\n",
       "  </thead>\n",
       "  <tbody>\n",
       "    <tr>\n",
       "      <th>AgencyOfRecord</th>\n",
       "      <td>452</td>\n",
       "      <td>35</td>\n",
       "      <td>Whale &amp; Temper</td>\n",
       "      <td>202</td>\n",
       "    </tr>\n",
       "    <tr>\n",
       "      <th>AccountName</th>\n",
       "      <td>1636</td>\n",
       "      <td>1191</td>\n",
       "      <td>Highplanet Co</td>\n",
       "      <td>16</td>\n",
       "    </tr>\n",
       "    <tr>\n",
       "      <th>OppOwnerName</th>\n",
       "      <td>1636</td>\n",
       "      <td>127</td>\n",
       "      <td>Ebony Moran</td>\n",
       "      <td>67</td>\n",
       "    </tr>\n",
       "    <tr>\n",
       "      <th>OppOwnerTeam</th>\n",
       "      <td>1636</td>\n",
       "      <td>11</td>\n",
       "      <td>US Large Biz Growth</td>\n",
       "      <td>548</td>\n",
       "    </tr>\n",
       "    <tr>\n",
       "      <th>CustomerStatus</th>\n",
       "      <td>1636</td>\n",
       "      <td>3</td>\n",
       "      <td>Partner</td>\n",
       "      <td>1101</td>\n",
       "    </tr>\n",
       "    <tr>\n",
       "      <th>Industry</th>\n",
       "      <td>1636</td>\n",
       "      <td>73</td>\n",
       "      <td>Consulting</td>\n",
       "      <td>133</td>\n",
       "    </tr>\n",
       "    <tr>\n",
       "      <th>Bucket</th>\n",
       "      <td>1636</td>\n",
       "      <td>8</td>\n",
       "      <td>Financial and Professional Services</td>\n",
       "      <td>473</td>\n",
       "    </tr>\n",
       "  </tbody>\n",
       "</table>\n",
       "</div>"
      ],
      "text/plain": [
       "               count unique                                  top  freq\n",
       "AgencyOfRecord   452     35                       Whale & Temper   202\n",
       "AccountName     1636   1191                        Highplanet Co    16\n",
       "OppOwnerName    1636    127                          Ebony Moran    67\n",
       "OppOwnerTeam    1636     11                  US Large Biz Growth   548\n",
       "CustomerStatus  1636      3                              Partner  1101\n",
       "Industry        1636     73                           Consulting   133\n",
       "Bucket          1636      8  Financial and Professional Services   473"
      ]
     },
     "execution_count": 267,
     "metadata": {},
     "output_type": "execute_result"
    }
   ],
   "source": [
    "buckets_dict=dict(zip(buckets[\"Industry\"],buckets[\"Industry Bucket\"]))\n",
    "glassdoor_data[\"Bucket\"]=glassdoor_data.Industry.map(buckets_dict)\n",
    "glassdoor_cat=glassdoor_data.select_dtypes(include=['object'])\n",
    "glassdoor_cat.describe().T"
   ]
  },
  {
   "cell_type": "markdown",
   "metadata": {},
   "source": [
    "__Are certain industry buckets more likely to change customer status?__\n",
    "\n",
    "Let's examine a simple contingency table."
   ]
  },
  {
   "cell_type": "code",
   "execution_count": 107,
   "metadata": {
    "collapsed": false
   },
   "outputs": [
    {
     "data": {
      "text/html": [
       "<div>\n",
       "<table border=\"1\" class=\"dataframe\">\n",
       "  <thead>\n",
       "    <tr style=\"text-align: right;\">\n",
       "      <th>CustomerStatus</th>\n",
       "      <th>Lapsed Partner</th>\n",
       "      <th>Partner</th>\n",
       "      <th>Past Partner</th>\n",
       "    </tr>\n",
       "    <tr>\n",
       "      <th>Bucket</th>\n",
       "      <th></th>\n",
       "      <th></th>\n",
       "      <th></th>\n",
       "    </tr>\n",
       "  </thead>\n",
       "  <tbody>\n",
       "    <tr>\n",
       "      <th>Financial and Professional Services</th>\n",
       "      <td>24</td>\n",
       "      <td>312</td>\n",
       "      <td>137</td>\n",
       "    </tr>\n",
       "    <tr>\n",
       "      <th>Government/Non-Profit</th>\n",
       "      <td>0</td>\n",
       "      <td>14</td>\n",
       "      <td>5</td>\n",
       "    </tr>\n",
       "    <tr>\n",
       "      <th>Healthcare and Pharmaceuticals</th>\n",
       "      <td>2</td>\n",
       "      <td>89</td>\n",
       "      <td>26</td>\n",
       "    </tr>\n",
       "    <tr>\n",
       "      <th>Labor/Manufacturing/Chemicals</th>\n",
       "      <td>21</td>\n",
       "      <td>152</td>\n",
       "      <td>56</td>\n",
       "    </tr>\n",
       "    <tr>\n",
       "      <th>Other</th>\n",
       "      <td>2</td>\n",
       "      <td>45</td>\n",
       "      <td>26</td>\n",
       "    </tr>\n",
       "    <tr>\n",
       "      <th>Retail/Food/Real Estate</th>\n",
       "      <td>12</td>\n",
       "      <td>116</td>\n",
       "      <td>49</td>\n",
       "    </tr>\n",
       "    <tr>\n",
       "      <th>Tech/Telco/IT/Electronics</th>\n",
       "      <td>20</td>\n",
       "      <td>304</td>\n",
       "      <td>107</td>\n",
       "    </tr>\n",
       "    <tr>\n",
       "      <th>Travel/Transportation/Education/Entertaintment</th>\n",
       "      <td>5</td>\n",
       "      <td>69</td>\n",
       "      <td>43</td>\n",
       "    </tr>\n",
       "  </tbody>\n",
       "</table>\n",
       "</div>"
      ],
      "text/plain": [
       "CustomerStatus                                  Lapsed Partner  Partner  \\\n",
       "Bucket                                                                    \n",
       "Financial and Professional Services                         24      312   \n",
       "Government/Non-Profit                                        0       14   \n",
       "Healthcare and Pharmaceuticals                               2       89   \n",
       "Labor/Manufacturing/Chemicals                               21      152   \n",
       "Other                                                        2       45   \n",
       "Retail/Food/Real Estate                                     12      116   \n",
       "Tech/Telco/IT/Electronics                                   20      304   \n",
       "Travel/Transportation/Education/Entertaintment               5       69   \n",
       "\n",
       "CustomerStatus                                  Past Partner  \n",
       "Bucket                                                        \n",
       "Financial and Professional Services                      137  \n",
       "Government/Non-Profit                                      5  \n",
       "Healthcare and Pharmaceuticals                            26  \n",
       "Labor/Manufacturing/Chemicals                             56  \n",
       "Other                                                     26  \n",
       "Retail/Food/Real Estate                                   49  \n",
       "Tech/Telco/IT/Electronics                                107  \n",
       "Travel/Transportation/Education/Entertaintment            43  "
      ]
     },
     "execution_count": 107,
     "metadata": {},
     "output_type": "execute_result"
    }
   ],
   "source": [
    "pd.crosstab(glassdoor_cat.Bucket,glassdoor_cat.CustomerStatus)"
   ]
  },
  {
   "cell_type": "markdown",
   "metadata": {},
   "source": [
    "We notice that the lapsed partner category is a bit sparse here and isn't providing much information. So we'll convert it to past partner for now."
   ]
  },
  {
   "cell_type": "code",
   "execution_count": 109,
   "metadata": {
    "collapsed": false
   },
   "outputs": [],
   "source": [
    "partner=glassdoor_cat.CustomerStatus.map(dict({'Lapsed Partner':'Past Partner','Partner':'Partner','Past Partner':'Past Partner'}))"
   ]
  },
  {
   "cell_type": "code",
   "execution_count": 121,
   "metadata": {
    "collapsed": false
   },
   "outputs": [
    {
     "data": {
      "text/html": [
       "<div>\n",
       "<table border=\"1\" class=\"dataframe\">\n",
       "  <thead>\n",
       "    <tr style=\"text-align: right;\">\n",
       "      <th>CustomerStatus</th>\n",
       "      <th>Partner</th>\n",
       "      <th>Past Partner</th>\n",
       "    </tr>\n",
       "    <tr>\n",
       "      <th>Bucket</th>\n",
       "      <th></th>\n",
       "      <th></th>\n",
       "    </tr>\n",
       "  </thead>\n",
       "  <tbody>\n",
       "    <tr>\n",
       "      <th>Financial and Professional Services</th>\n",
       "      <td>0.659619</td>\n",
       "      <td>0.340381</td>\n",
       "    </tr>\n",
       "    <tr>\n",
       "      <th>Government/Non-Profit</th>\n",
       "      <td>0.736842</td>\n",
       "      <td>0.263158</td>\n",
       "    </tr>\n",
       "    <tr>\n",
       "      <th>Healthcare and Pharmaceuticals</th>\n",
       "      <td>0.760684</td>\n",
       "      <td>0.239316</td>\n",
       "    </tr>\n",
       "    <tr>\n",
       "      <th>Labor/Manufacturing/Chemicals</th>\n",
       "      <td>0.663755</td>\n",
       "      <td>0.336245</td>\n",
       "    </tr>\n",
       "    <tr>\n",
       "      <th>Other</th>\n",
       "      <td>0.616438</td>\n",
       "      <td>0.383562</td>\n",
       "    </tr>\n",
       "    <tr>\n",
       "      <th>Retail/Food/Real Estate</th>\n",
       "      <td>0.655367</td>\n",
       "      <td>0.344633</td>\n",
       "    </tr>\n",
       "    <tr>\n",
       "      <th>Tech/Telco/IT/Electronics</th>\n",
       "      <td>0.705336</td>\n",
       "      <td>0.294664</td>\n",
       "    </tr>\n",
       "    <tr>\n",
       "      <th>Travel/Transportation/Education/Entertaintment</th>\n",
       "      <td>0.589744</td>\n",
       "      <td>0.410256</td>\n",
       "    </tr>\n",
       "  </tbody>\n",
       "</table>\n",
       "</div>"
      ],
      "text/plain": [
       "CustomerStatus                                   Partner  Past Partner\n",
       "Bucket                                                                \n",
       "Financial and Professional Services             0.659619      0.340381\n",
       "Government/Non-Profit                           0.736842      0.263158\n",
       "Healthcare and Pharmaceuticals                  0.760684      0.239316\n",
       "Labor/Manufacturing/Chemicals                   0.663755      0.336245\n",
       "Other                                           0.616438      0.383562\n",
       "Retail/Food/Real Estate                         0.655367      0.344633\n",
       "Tech/Telco/IT/Electronics                       0.705336      0.294664\n",
       "Travel/Transportation/Education/Entertaintment  0.589744      0.410256"
      ]
     },
     "execution_count": 121,
     "metadata": {},
     "output_type": "execute_result"
    }
   ],
   "source": [
    "bucket_cust=pd.crosstab(glassdoor_cat.Bucket,partner)\n",
    "bucket_cust.div(bucket_cust.sum(axis=1),axis=0)"
   ]
  },
  {
   "cell_type": "markdown",
   "metadata": {},
   "source": [
    "It appears that the travel industry is significantly more likely to be a past partner."
   ]
  },
  {
   "cell_type": "markdown",
   "metadata": {},
   "source": [
    "__Exploring the WinNumber and how it affects sales__"
   ]
  },
  {
   "cell_type": "code",
   "execution_count": 164,
   "metadata": {
    "collapsed": false
   },
   "outputs": [
    {
     "data": {
      "image/png": "[encoded data removed]",
      "text/plain": [
       "<matplotlib.figure.Figure at 0xb4444e0>"
      ]
     },
     "metadata": {},
     "output_type": "display_data"
    }
   ],
   "source": [
    "WN_counts=glassdoor_data.WinNumber.value_counts()\n",
    "WN_counts=WN_counts[np.sort(WN_counts.index.values)]\n",
    "WN_counts.plot()\n",
    "plt.title(\"Distribution of Win Numbers\")\n",
    "plt.xlabel(\"Win Number\")\n",
    "plt.ylabel(\"Frequency\")\n",
    "plt.show()"
   ]
  },
  {
   "cell_type": "code",
   "execution_count": 170,
   "metadata": {
    "collapsed": false
   },
   "outputs": [],
   "source": [
    "WinCat=pd.cut(glassdoor_data.WinNumber,bins=[0,1,2,3,4,np.Inf],labels=[\"1\",\"2\",\"3\",\"4\",\"5+\"])\n",
    "glassdoor_data[\"WinCat\"]=WinCat"
   ]
  },
  {
   "cell_type": "code",
   "execution_count": 178,
   "metadata": {
    "collapsed": false
   },
   "outputs": [
    {
     "data": {
      "image/png": "[encoded data removed]",
      "text/plain": [
       "<matplotlib.figure.Figure at 0xb31efd0>"
      ]
     },
     "metadata": {},
     "output_type": "display_data"
    }
   ],
   "source": [
    "glassdoor_data.boxplot(\"BaseBY1\",\"WinCat\")\n",
    "plt.ylim(-10000,400000)\n",
    "plt.show()"
   ]
  },
  {
   "cell_type": "markdown",
   "metadata": {},
   "source": [
    "__Examining Opportunity Renewal__\n",
    "\n",
    "We'll start by only looking at deals that have a renewal opportunity. Let's start by looking at the tables for renewals."
   ]
  },
  {
   "cell_type": "code",
   "execution_count": 193,
   "metadata": {
    "collapsed": false
   },
   "outputs": [
    {
     "data": {
      "text/html": [
       "<div>\n",
       "<table border=\"1\" class=\"dataframe\">\n",
       "  <thead>\n",
       "    <tr style=\"text-align: right;\">\n",
       "      <th>SubscriptionOppsRenewed</th>\n",
       "      <th>0.0</th>\n",
       "      <th>1.0</th>\n",
       "    </tr>\n",
       "    <tr>\n",
       "      <th>SubscriptionOppsRenewing</th>\n",
       "      <th></th>\n",
       "      <th></th>\n",
       "    </tr>\n",
       "  </thead>\n",
       "  <tbody>\n",
       "    <tr>\n",
       "      <th>0</th>\n",
       "      <td>81</td>\n",
       "      <td>128</td>\n",
       "    </tr>\n",
       "    <tr>\n",
       "      <th>1</th>\n",
       "      <td>11</td>\n",
       "      <td>750</td>\n",
       "    </tr>\n",
       "  </tbody>\n",
       "</table>\n",
       "</div>"
      ],
      "text/plain": [
       "SubscriptionOppsRenewed   0.0  1.0\n",
       "SubscriptionOppsRenewing          \n",
       "0                          81  128\n",
       "1                          11  750"
      ]
     },
     "execution_count": 193,
     "metadata": {},
     "output_type": "execute_result"
    }
   ],
   "source": [
    "pd.crosstab(glassdoor_data.SubscriptionOppsRenewing,glassdoor_data.SubscriptionOppsRenewed)"
   ]
  },
  {
   "cell_type": "code",
   "execution_count": 194,
   "metadata": {
    "collapsed": false
   },
   "outputs": [
    {
     "data": {
      "text/html": [
       "<div>\n",
       "<table border=\"1\" class=\"dataframe\">\n",
       "  <thead>\n",
       "    <tr style=\"text-align: right;\">\n",
       "      <th>NonSubscriptionOppsRenewed</th>\n",
       "      <th>0.0</th>\n",
       "      <th>1.0</th>\n",
       "    </tr>\n",
       "    <tr>\n",
       "      <th>NonSubscriptionOppsRenewing</th>\n",
       "      <th></th>\n",
       "      <th></th>\n",
       "    </tr>\n",
       "  </thead>\n",
       "  <tbody>\n",
       "    <tr>\n",
       "      <th>0</th>\n",
       "      <td>479</td>\n",
       "      <td>99</td>\n",
       "    </tr>\n",
       "    <tr>\n",
       "      <th>1</th>\n",
       "      <td>132</td>\n",
       "      <td>260</td>\n",
       "    </tr>\n",
       "  </tbody>\n",
       "</table>\n",
       "</div>"
      ],
      "text/plain": [
       "NonSubscriptionOppsRenewed   0.0  1.0\n",
       "NonSubscriptionOppsRenewing          \n",
       "0                            479   99\n",
       "1                            132  260"
      ]
     },
     "execution_count": 194,
     "metadata": {},
     "output_type": "execute_result"
    }
   ],
   "source": [
    "pd.crosstab(glassdoor_data.NonSubscriptionOppsRenewing,glassdoor_data.NonSubscriptionOppsRenewed)"
   ]
  },
  {
   "cell_type": "code",
   "execution_count": 201,
   "metadata": {
    "collapsed": true
   },
   "outputs": [],
   "source": [
    "renewal_data=glassdoor_data[glassdoor_data[\"NonSubscriptionOppsRenewing\"]==1]\n",
    "renewal_data=renewal_data[renewal_data[\"NonSubscriptionOppsRenewed\"].isnull()==False]\n",
    "renewal_data[\"Renewed\"]=renewal_data[\"NonSubscriptionOppsRenewed\"]"
   ]
  },
  {
   "cell_type": "markdown",
   "metadata": {},
   "source": [
    "__Examining Win Number and Renewal__"
   ]
  },
  {
   "cell_type": "code",
   "execution_count": 208,
   "metadata": {
    "collapsed": false
   },
   "outputs": [
    {
     "data": {
      "text/html": [
       "<div>\n",
       "<table border=\"1\" class=\"dataframe\">\n",
       "  <thead>\n",
       "    <tr style=\"text-align: right;\">\n",
       "      <th>Renewed</th>\n",
       "      <th>0.0</th>\n",
       "      <th>1.0</th>\n",
       "    </tr>\n",
       "    <tr>\n",
       "      <th>WinCat</th>\n",
       "      <th></th>\n",
       "      <th></th>\n",
       "    </tr>\n",
       "  </thead>\n",
       "  <tbody>\n",
       "    <tr>\n",
       "      <th>1</th>\n",
       "      <td>0.447552</td>\n",
       "      <td>0.552448</td>\n",
       "    </tr>\n",
       "    <tr>\n",
       "      <th>2</th>\n",
       "      <td>0.341772</td>\n",
       "      <td>0.658228</td>\n",
       "    </tr>\n",
       "    <tr>\n",
       "      <th>3</th>\n",
       "      <td>0.373134</td>\n",
       "      <td>0.626866</td>\n",
       "    </tr>\n",
       "    <tr>\n",
       "      <th>4</th>\n",
       "      <td>0.266667</td>\n",
       "      <td>0.733333</td>\n",
       "    </tr>\n",
       "    <tr>\n",
       "      <th>5+</th>\n",
       "      <td>0.109589</td>\n",
       "      <td>0.890411</td>\n",
       "    </tr>\n",
       "  </tbody>\n",
       "</table>\n",
       "</div>"
      ],
      "text/plain": [
       "Renewed       0.0       1.0\n",
       "WinCat                     \n",
       "1        0.447552  0.552448\n",
       "2        0.341772  0.658228\n",
       "3        0.373134  0.626866\n",
       "4        0.266667  0.733333\n",
       "5+       0.109589  0.890411"
      ]
     },
     "execution_count": 208,
     "metadata": {},
     "output_type": "execute_result"
    }
   ],
   "source": [
    "Win_renewal=pd.crosstab(renewal_data.WinCat,renewal_data.Renewed)\n",
    "Win_renewal.div(Win_renewal.sum(axis=1),axis=0)"
   ]
  },
  {
   "cell_type": "markdown",
   "metadata": {},
   "source": [
    "The renewal rate goes up signficantly as the Win number increases.\n",
    "\n",
    "__Examining renewal and continuous variables__"
   ]
  },
  {
   "cell_type": "code",
   "execution_count": 241,
   "metadata": {
    "collapsed": false
   },
   "outputs": [
    {
     "data": {
      "text/html": [
       "<div>\n",
       "<table border=\"1\" class=\"dataframe\">\n",
       "  <thead>\n",
       "    <tr style=\"text-align: right;\">\n",
       "      <th>Renewed</th>\n",
       "      <th>0.0</th>\n",
       "      <th>1.0</th>\n",
       "    </tr>\n",
       "  </thead>\n",
       "  <tbody>\n",
       "    <tr>\n",
       "      <th>AverageContractTerm</th>\n",
       "      <td>9.418939</td>\n",
       "      <td>8.154381</td>\n",
       "    </tr>\n",
       "    <tr>\n",
       "      <th>BaseBY1</th>\n",
       "      <td>144696.293939</td>\n",
       "      <td>163135.891538</td>\n",
       "    </tr>\n",
       "    <tr>\n",
       "      <th>BaselineSubscriptionBY1</th>\n",
       "      <td>59150.330985</td>\n",
       "      <td>51302.810346</td>\n",
       "    </tr>\n",
       "    <tr>\n",
       "      <th>BaselineNonSubscriptionBY1</th>\n",
       "      <td>84827.212955</td>\n",
       "      <td>111833.081192</td>\n",
       "    </tr>\n",
       "    <tr>\n",
       "      <th>RenewalBY1</th>\n",
       "      <td>190401.601174</td>\n",
       "      <td>298509.792500</td>\n",
       "    </tr>\n",
       "  </tbody>\n",
       "</table>\n",
       "</div>"
      ],
      "text/plain": [
       "Renewed                               0.0            1.0\n",
       "AverageContractTerm              9.418939       8.154381\n",
       "BaseBY1                     144696.293939  163135.891538\n",
       "BaselineSubscriptionBY1      59150.330985   51302.810346\n",
       "BaselineNonSubscriptionBY1   84827.212955  111833.081192\n",
       "RenewalBY1                  190401.601174  298509.792500"
      ]
     },
     "execution_count": 241,
     "metadata": {},
     "output_type": "execute_result"
    }
   ],
   "source": [
    "renewal_means=renewal_data.select_dtypes(include=['float64']).groupby(\"Renewed\").mean().T.iloc[:-4,:]"
   ]
  },
  {
   "cell_type": "code",
   "execution_count": 250,
   "metadata": {
    "collapsed": true
   },
   "outputs": [],
   "source": [
    "vars_to_test=renewal_means.index.values"
   ]
  },
  {
   "cell_type": "code",
   "execution_count": 266,
   "metadata": {
    "collapsed": false
   },
   "outputs": [
    {
     "data": {
      "text/html": [
       "<div>\n",
       "<table border=\"1\" class=\"dataframe\">\n",
       "  <thead>\n",
       "    <tr style=\"text-align: right;\">\n",
       "      <th></th>\n",
       "      <th>t*</th>\n",
       "      <th>p-value</th>\n",
       "    </tr>\n",
       "  </thead>\n",
       "  <tbody>\n",
       "    <tr>\n",
       "      <th>AverageContractTerm</th>\n",
       "      <td>-2.895117</td>\n",
       "      <td>0.004003</td>\n",
       "    </tr>\n",
       "    <tr>\n",
       "      <th>BaseBY1</th>\n",
       "      <td>1.114439</td>\n",
       "      <td>0.265777</td>\n",
       "    </tr>\n",
       "    <tr>\n",
       "      <th>BaselineSubscriptionBY1</th>\n",
       "      <td>-1.005129</td>\n",
       "      <td>0.315458</td>\n",
       "    </tr>\n",
       "    <tr>\n",
       "      <th>BaselineNonSubscriptionBY1</th>\n",
       "      <td>2.225193</td>\n",
       "      <td>0.026640</td>\n",
       "    </tr>\n",
       "    <tr>\n",
       "      <th>RenewalBY1</th>\n",
       "      <td>3.957963</td>\n",
       "      <td>0.000090</td>\n",
       "    </tr>\n",
       "  </tbody>\n",
       "</table>\n",
       "</div>"
      ],
      "text/plain": [
       "                                  t*   p-value\n",
       "AverageContractTerm        -2.895117  0.004003\n",
       "BaseBY1                     1.114439  0.265777\n",
       "BaselineSubscriptionBY1    -1.005129  0.315458\n",
       "BaselineNonSubscriptionBY1  2.225193  0.026640\n",
       "RenewalBY1                  3.957963  0.000090"
      ]
     },
     "execution_count": 266,
     "metadata": {},
     "output_type": "execute_result"
    }
   ],
   "source": [
    "from scipy.stats import ttest_ind\n",
    "renewed=renewal_data[renewal_data[\"Renewed\"]==1]\n",
    "non_renewed=renewal_data[renewal_data[\"Renewed\"]==0]\n",
    "t_tests=[np.array(ttest_ind(renewed[v],non_renewed[v])) for v in vars_to_test]\n",
    "t_test_df=pd.DataFrame(np.vstack(t_tests),index=vars_to_test,columns=[\"t*\",\"p-value\"])\n",
    "t_test_df"
   ]
  },
  {
   "cell_type": "markdown",
   "metadata": {},
   "source": [
    "Based on our t tests, it appears that __Contract Term__, __Non Subscription Revenue__ and __Renewal Revenue__ significantly affect the outcome of non-subscription renewal."
   ]
  }
 ],
 "metadata": {
  "kernelspec": {
   "display_name": "Python 3",
   "language": "python",
   "name": "python3"
  },
  "language_info": {
   "codemirror_mode": {
    "name": "ipython",
    "version": 3
   },
   "file_extension": ".py",
   "mimetype": "text/x-python",
   "name": "python",
   "nbconvert_exporter": "python",
   "pygments_lexer": "ipython3",
   "version": "3.5.2"
  }
 },
 "nbformat": 4,
 "nbformat_minor": 0
}
